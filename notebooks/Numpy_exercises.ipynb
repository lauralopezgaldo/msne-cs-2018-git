{
 "cells": [
  {
   "cell_type": "markdown",
   "metadata": {},
   "source": [
    "# Numpy Exercises"
   ]
  },
  {
   "cell_type": "markdown",
   "metadata": {},
   "source": [
    "#### 1. Import the numpy package under the name `np` (★☆☆)"
   ]
  },
  {
   "cell_type": "code",
   "execution_count": 1,
   "metadata": {
    "collapsed": true
   },
   "outputs": [],
   "source": [
    "import numpy as np"
   ]
  },
  {
   "cell_type": "markdown",
   "metadata": {},
   "source": [
    "#### 2.  Create a vector with values ranging from 10 to 49 (★☆☆)"
   ]
  },
  {
   "cell_type": "code",
   "execution_count": 2,
   "metadata": {},
   "outputs": [
    {
     "data": {
      "text/plain": [
       "array([10, 11, 12, 13, 14, 15, 16, 17, 18, 19, 20, 21, 22, 23, 24, 25, 26,\n",
       "       27, 28, 29, 30, 31, 32, 33, 34, 35, 36, 37, 38, 39, 40, 41, 42, 43,\n",
       "       44, 45, 46, 47, 48])"
      ]
     },
     "execution_count": 2,
     "metadata": {},
     "output_type": "execute_result"
    }
   ],
   "source": [
    "a = np.array(range(10,49))\n",
    "a"
   ]
  },
  {
   "cell_type": "markdown",
   "metadata": {},
   "source": [
    "#### 3.  Using indexing, reverse a vector (first element becomes last) (★☆☆)"
   ]
  },
  {
   "cell_type": "code",
   "execution_count": 5,
   "metadata": {},
   "outputs": [
    {
     "data": {
      "text/plain": [
       "array([48, 47, 46, 45, 44, 43, 42, 41, 40, 39, 38, 37, 36, 35, 34, 33, 32,\n",
       "       31, 30, 29, 28, 27, 26, 25, 24, 23, 22, 21, 20, 19, 18, 17, 16, 15,\n",
       "       14, 13, 12, 11, 10])"
      ]
     },
     "execution_count": 5,
     "metadata": {},
     "output_type": "execute_result"
    }
   ],
   "source": [
    "b = [a[len(a) -1 - index] for index,num in enumerate(a)]\n",
    "b = np.array(b)\n",
    "b"
   ]
  },
  {
   "cell_type": "markdown",
   "metadata": {},
   "source": [
    "---"
   ]
  },
  {
   "cell_type": "markdown",
   "metadata": {},
   "source": [
    "### Feedback"
   ]
  },
  {
   "cell_type": "code",
   "execution_count": 25,
   "metadata": {},
   "outputs": [
    {
     "data": {
      "text/plain": [
       "array([48, 47, 46, 45, 44, 43, 42, 41, 40, 39, 38, 37, 36, 35, 34, 33, 32,\n",
       "       31, 30, 29, 28, 27, 26, 25, 24, 23, 22, 21, 20, 19, 18, 17, 16, 15,\n",
       "       14, 13, 12, 11, 10])"
      ]
     },
     "execution_count": 25,
     "metadata": {},
     "output_type": "execute_result"
    }
   ],
   "source": [
    "a[-np.arange(len(a))-1]"
   ]
  },
  {
   "cell_type": "markdown",
   "metadata": {},
   "source": [
    "---"
   ]
  },
  {
   "cell_type": "markdown",
   "metadata": {},
   "source": [
    "#### 4.  Create a 3x3 matrix with values ranging from 0 to 8 (★☆☆)"
   ]
  },
  {
   "cell_type": "code",
   "execution_count": 4,
   "metadata": {},
   "outputs": [
    {
     "data": {
      "text/plain": [
       "array([[0, 1, 2],\n",
       "       [3, 4, 5],\n",
       "       [6, 7, 8]])"
      ]
     },
     "execution_count": 4,
     "metadata": {},
     "output_type": "execute_result"
    }
   ],
   "source": [
    "c = np.array(range(0,9)).reshape((3,3))\n",
    "c"
   ]
  },
  {
   "cell_type": "code",
   "execution_count": 5,
   "metadata": {},
   "outputs": [
    {
     "data": {
      "text/plain": [
       "2"
      ]
     },
     "execution_count": 5,
     "metadata": {},
     "output_type": "execute_result"
    }
   ],
   "source": [
    "np.ndim(c)\n",
    "#Dimensions of c"
   ]
  },
  {
   "cell_type": "markdown",
   "metadata": {},
   "source": [
    "---"
   ]
  },
  {
   "cell_type": "markdown",
   "metadata": {},
   "source": [
    "### Feedback\n",
    "\n",
    "Instead of `np.array(range())`, you can use `np.arange`:"
   ]
  },
  {
   "cell_type": "code",
   "execution_count": 28,
   "metadata": {},
   "outputs": [
    {
     "data": {
      "text/plain": [
       "array([[0, 1, 2],\n",
       "       [3, 4, 5],\n",
       "       [6, 7, 8]])"
      ]
     },
     "execution_count": 28,
     "metadata": {},
     "output_type": "execute_result"
    }
   ],
   "source": [
    "np.arange(9).reshape(3, 3)"
   ]
  },
  {
   "cell_type": "markdown",
   "metadata": {},
   "source": [
    "---"
   ]
  },
  {
   "cell_type": "markdown",
   "metadata": {},
   "source": [
    "#### 5. Find indices of non-zero elements from \\[1,2,0,0,4,0\\] (★☆☆)\n",
    "\n",
    "hint: look into `np.nonzero()`"
   ]
  },
  {
   "cell_type": "code",
   "execution_count": 39,
   "metadata": {},
   "outputs": [
    {
     "name": "stdout",
     "output_type": "stream",
     "text": [
      "(array([0, 1, 4], dtype=int64),)\n"
     ]
    }
   ],
   "source": [
    "nz = np.nonzero([1,2,0,0,4,0])\n",
    "print(nz)"
   ]
  },
  {
   "cell_type": "markdown",
   "metadata": {},
   "source": [
    "#### 6. Create a 10x10 array with random values and find the minimum and maximum values (★☆☆)"
   ]
  },
  {
   "cell_type": "code",
   "execution_count": 44,
   "metadata": {},
   "outputs": [
    {
     "name": "stdout",
     "output_type": "stream",
     "text": [
      "[[0.97783659 0.75949146 0.45764129 0.24559462 0.8274163  0.92806551\n",
      "  0.88654109 0.16229184 0.96753098 0.03038605]\n",
      " [0.88687904 0.09673979 0.28304483 0.62629723 0.68402936 0.75205587\n",
      "  0.25878078 0.8077443  0.37163482 0.53201417]\n",
      " [0.50516272 0.48109592 0.28853178 0.36405436 0.18611834 0.08288117\n",
      "  0.28919942 0.38703684 0.98021048 0.80697134]\n",
      " [0.9296791  0.86322544 0.07431432 0.5516264  0.70726304 0.8745121\n",
      "  0.34231465 0.06521273 0.06774767 0.92528033]\n",
      " [0.4317301  0.08305818 0.20522134 0.5532888  0.24268114 0.00214022\n",
      "  0.53121229 0.3191891  0.98034825 0.4405373 ]\n",
      " [0.59664249 0.42528602 0.86242842 0.31577975 0.10467685 0.76313725\n",
      "  0.1603371  0.25206913 0.45857819 0.38268032]\n",
      " [0.53298541 0.55238912 0.03176287 0.61621901 0.92044502 0.67777432\n",
      "  0.07978128 0.78596608 0.09703584 0.25365254]\n",
      " [0.80684183 0.21707509 0.70313053 0.12662749 0.81377803 0.78469496\n",
      "  0.49272936 0.50096603 0.74015547 0.07363362]\n",
      " [0.45697063 0.25837307 0.53191068 0.10284047 0.41234708 0.58156947\n",
      "  0.59490366 0.93214957 0.2146597  0.86257141]\n",
      " [0.43326071 0.63237109 0.67808337 0.48428913 0.65752461 0.64369279\n",
      "  0.1775549  0.59480448 0.43627722 0.71543095]]\n"
     ]
    },
    {
     "data": {
      "text/plain": [
       "[0.0021402155816080404, 0.980348247861989]"
      ]
     },
     "execution_count": 44,
     "metadata": {},
     "output_type": "execute_result"
    }
   ],
   "source": [
    "ra = np.random.random((10,10))\n",
    "print(ra)\n",
    "minmax= [np.min(ra), np.max(ra)]\n",
    "minmax"
   ]
  },
  {
   "cell_type": "markdown",
   "metadata": {},
   "source": [
    "#### 7. Create a random vector of size 30 and find the mean value (★☆☆)"
   ]
  },
  {
   "cell_type": "code",
   "execution_count": 49,
   "metadata": {},
   "outputs": [
    {
     "data": {
      "text/plain": [
       "0.5451159628085185"
      ]
     },
     "execution_count": 49,
     "metadata": {},
     "output_type": "execute_result"
    }
   ],
   "source": [
    "rv = np.random.rand((30))\n",
    "np.mean(rv)\n"
   ]
  },
  {
   "cell_type": "markdown",
   "metadata": {},
   "source": [
    "#### 8. Create a 2d array with 1 on the border and 0 inside (★☆☆)"
   ]
  },
  {
   "cell_type": "code",
   "execution_count": 18,
   "metadata": {},
   "outputs": [
    {
     "data": {
      "text/plain": [
       "array([[1., 1., 1.],\n",
       "       [1., 0., 1.],\n",
       "       [1., 1., 1.]])"
      ]
     },
     "execution_count": 18,
     "metadata": {},
     "output_type": "execute_result"
    }
   ],
   "source": [
    "x = np.zeros((1,1)) #If we put here 1 it is considered 1dim so the padding is only occurring in 1dimension too.\n",
    "x\n",
    "np.pad(x, (1,1), mode = 'constant', constant_values = 1)"
   ]
  },
  {
   "cell_type": "markdown",
   "metadata": {},
   "source": [
    "#### 9. Multiply a 5x3 matrix by a 3x2 matrix (real matrix product) (★☆☆)\n",
    "\n",
    "Hint: look into `np.dot()`"
   ]
  },
  {
   "cell_type": "code",
   "execution_count": 23,
   "metadata": {},
   "outputs": [
    {
     "data": {
      "text/plain": [
       "array([[ 10,  13],\n",
       "       [ 28,  40],\n",
       "       [ 46,  67],\n",
       "       [ 64,  94],\n",
       "       [ 82, 121]])"
      ]
     },
     "execution_count": 23,
     "metadata": {},
     "output_type": "execute_result"
    }
   ],
   "source": [
    "m1 = np.array(range(0,15)).reshape((5,3))\n",
    "m2 = np.array(range(0,6)).reshape((3,2))\n",
    "\n",
    "np.dot(m1,m2)"
   ]
  },
  {
   "cell_type": "markdown",
   "metadata": {},
   "source": [
    "#### 10. Given a 1D array, negate all elements which are between 3 and 8, in place. (★☆☆)"
   ]
  },
  {
   "cell_type": "code",
   "execution_count": 28,
   "metadata": {
    "collapsed": false
   },
   "outputs": [
    {
     "data": {
      "text/plain": [
       "array([ 0,  1,  2,  3, -4, -5, -6, -7,  8,  9, 10])"
      ]
     },
     "execution_count": 28,
     "metadata": {},
     "output_type": "execute_result"
    }
   ],
   "source": [
    "Z = np.arange(11)\n",
    "for i,num in enumerate(Z):\n",
    "    if (3<i<8):\n",
    "        Z[i] = - num\n",
    "Z"
   ]
  },
  {
   "cell_type": "code",
   "execution_count": 41,
   "metadata": {},
   "outputs": [
    {
     "data": {
      "text/plain": [
       "[-4, -5, -6, -7]"
      ]
     },
     "execution_count": 41,
     "metadata": {},
     "output_type": "execute_result"
    }
   ],
   "source": [
    "Z = np.arange(11)\n",
    "Z = [-num for i,num in enumerate(Z) if (3<i<8)]\n",
    "Z\n",
    "#COULD YOU USE TWO CONDITIONS IN LIST COMPREHENSION?"
   ]
  },
  {
   "cell_type": "markdown",
   "metadata": {},
   "source": [
    "---"
   ]
  },
  {
   "cell_type": "markdown",
   "metadata": {},
   "source": [
    "### Feedback"
   ]
  },
  {
   "cell_type": "markdown",
   "metadata": {},
   "source": [
    "List comprehension with two conditions (if else)"
   ]
  },
  {
   "cell_type": "code",
   "execution_count": 56,
   "metadata": {},
   "outputs": [
    {
     "data": {
      "text/plain": [
       "[0, 1, 2, 3, -4, -5, -6, -7, 8, 9, 10]"
      ]
     },
     "execution_count": 56,
     "metadata": {},
     "output_type": "execute_result"
    }
   ],
   "source": [
    "Z = np.arange(11)\n",
    "Z = [-num if (3<num<8) else num for num in Z]\n",
    "Z"
   ]
  },
  {
   "cell_type": "markdown",
   "metadata": {},
   "source": [
    "You can also use masking:"
   ]
  },
  {
   "cell_type": "code",
   "execution_count": 55,
   "metadata": {},
   "outputs": [
    {
     "data": {
      "text/plain": [
       "array([ 0,  1,  2,  3, -4, -5, -6, -7,  8,  9, 10])"
      ]
     },
     "execution_count": 55,
     "metadata": {},
     "output_type": "execute_result"
    }
   ],
   "source": [
    "Z = np.arange(11)\n",
    "Z[(Z > 3) & (Z < 8)] *= -1 \n",
    "Z"
   ]
  },
  {
   "cell_type": "markdown",
   "metadata": {},
   "source": [
    "---"
   ]
  },
  {
   "cell_type": "markdown",
   "metadata": {},
   "source": [
    "#### 11. How to find common values between two arrays? (★☆☆)\n",
    "\n",
    "Hint: loo into `np.intersect1d()`"
   ]
  },
  {
   "cell_type": "code",
   "execution_count": 57,
   "metadata": {
    "collapsed": false
   },
   "outputs": [
    {
     "name": "stdout",
     "output_type": "stream",
     "text": [
      "[0 4 0 8 9 8 6 8 1 1]\n",
      "[4 2 0 0 2 4 7 6 6 7]\n"
     ]
    }
   ],
   "source": [
    "Z1 = np.random.randint(0,10,10)\n",
    "print(Z1)\n",
    "Z2 = np.random.randint(0,10,10)\n",
    "print(Z2)"
   ]
  },
  {
   "cell_type": "code",
   "execution_count": 58,
   "metadata": {},
   "outputs": [
    {
     "data": {
      "text/plain": [
       "array([0, 4, 6])"
      ]
     },
     "execution_count": 58,
     "metadata": {},
     "output_type": "execute_result"
    }
   ],
   "source": [
    "np.intersect1d(Z1,Z2)\n",
    "#Esta función busca los valores de una que están en la otra y crea un array con todos ellos\n",
    "#ordenados de menor a mayor"
   ]
  },
  {
   "cell_type": "markdown",
   "metadata": {},
   "source": [
    "#### 12. Create a random vector of size 10 and sort it (★★☆)\n",
    "Hint: look into `np.sort()`"
   ]
  },
  {
   "cell_type": "code",
   "execution_count": 67,
   "metadata": {
    "collapsed": false
   },
   "outputs": [
    {
     "data": {
      "text/plain": [
       "array([0.74086622, 0.44988392, 0.12826936, 0.13939281, 0.86773871,\n",
       "       0.3465473 , 0.27994757, 0.39995148, 0.34184639, 0.47762772])"
      ]
     },
     "execution_count": 67,
     "metadata": {},
     "output_type": "execute_result"
    }
   ],
   "source": [
    "Z = np.random.random(10)\n",
    "Z"
   ]
  },
  {
   "cell_type": "code",
   "execution_count": 68,
   "metadata": {},
   "outputs": [
    {
     "data": {
      "text/plain": [
       "array([0.12826936, 0.13939281, 0.27994757, 0.34184639, 0.3465473 ,\n",
       "       0.39995148, 0.44988392, 0.47762772, 0.74086622, 0.86773871])"
      ]
     },
     "execution_count": 68,
     "metadata": {},
     "output_type": "execute_result"
    }
   ],
   "source": [
    "newZ = np.sort(Z)\n",
    "newZ"
   ]
  },
  {
   "cell_type": "markdown",
   "metadata": {},
   "source": [
    "#### 13. Create random vector of size 10 and replace the maximum value by 0 (★★☆)\n",
    "\n",
    "Hint: look into `np.argmax()`"
   ]
  },
  {
   "cell_type": "code",
   "execution_count": 72,
   "metadata": {
    "collapsed": false
   },
   "outputs": [
    {
     "data": {
      "text/plain": [
       "array([0.06952154, 0.04521038, 0.40534844, 0.08541873, 0.74261899,\n",
       "       0.41743195, 0.98036094, 0.09158931, 0.40351844, 0.56009658])"
      ]
     },
     "execution_count": 72,
     "metadata": {},
     "output_type": "execute_result"
    }
   ],
   "source": [
    "X = np.random.random(10)\n",
    "X"
   ]
  },
  {
   "cell_type": "code",
   "execution_count": 73,
   "metadata": {},
   "outputs": [
    {
     "data": {
      "text/plain": [
       "array([0.06952154, 0.04521038, 0.40534844, 0.08541873, 0.74261899,\n",
       "       0.41743195, 0.        , 0.09158931, 0.40351844, 0.56009658])"
      ]
     },
     "execution_count": 73,
     "metadata": {},
     "output_type": "execute_result"
    }
   ],
   "source": [
    "X[np.argmax(X)]=0\n",
    "X"
   ]
  },
  {
   "cell_type": "markdown",
   "metadata": {},
   "source": [
    "#### 14. How to find the closest value (and its index) to a given scalar in a vector? (★★☆)"
   ]
  },
  {
   "cell_type": "code",
   "execution_count": 98,
   "metadata": {
    "collapsed": false
   },
   "outputs": [
    {
     "name": "stdout",
     "output_type": "stream",
     "text": [
      "[[98]\n",
      " [63]\n",
      " [86]\n",
      " [ 4]\n",
      " [23]\n",
      " [79]\n",
      " [54]\n",
      " [26]\n",
      " [99]\n",
      " [21]\n",
      " [50]\n",
      " [48]\n",
      " [73]\n",
      " [43]\n",
      " [63]\n",
      " [79]\n",
      " [ 2]\n",
      " [18]\n",
      " [99]\n",
      " [65]]\n"
     ]
    }
   ],
   "source": [
    "x = np.random.randint(0, 100, (20, 1))  # the data\n",
    "num = 5  # change this number to test your code\n",
    "print(x)"
   ]
  },
  {
   "cell_type": "code",
   "execution_count": 99,
   "metadata": {},
   "outputs": [
    {
     "name": "stdout",
     "output_type": "stream",
     "text": [
      "The closest number is [4] its index is 3\n"
     ]
    }
   ],
   "source": [
    "#I am considering the fact that the closest value is the one that gives the smaller number if\n",
    "#we substract one by the other (absolute value of that)\n",
    "index = np.argmin(np.abs(x - num))\n",
    "print ('The closest number is ' + str(x[index]) + ' its index is '+ str(index))"
   ]
  },
  {
   "cell_type": "markdown",
   "metadata": {},
   "source": [
    "#### 15. How to convert a float (32 bits) array into an integer (32 bits) in place?\n",
    "\n",
    "hint: look into `.astype()`"
   ]
  },
  {
   "cell_type": "code",
   "execution_count": 124,
   "metadata": {
    "collapsed": false
   },
   "outputs": [
    {
     "data": {
      "text/plain": [
       "dtype('float32')"
      ]
     },
     "execution_count": 124,
     "metadata": {},
     "output_type": "execute_result"
    }
   ],
   "source": [
    "Z = np.arange(10, dtype=np.float32)\n",
    "Z.dtype"
   ]
  },
  {
   "cell_type": "code",
   "execution_count": 133,
   "metadata": {},
   "outputs": [
    {
     "data": {
      "text/plain": [
       "dtype('int32')"
      ]
     },
     "execution_count": 133,
     "metadata": {},
     "output_type": "execute_result"
    }
   ],
   "source": [
    "b = Z.astype(dtype=np.int32)\n",
    "b.dtype"
   ]
  },
  {
   "cell_type": "markdown",
   "metadata": {},
   "source": [
    "#### 16. Subtract the mean of each row of a matrix (★★☆)"
   ]
  },
  {
   "cell_type": "code",
   "execution_count": 183,
   "metadata": {
    "collapsed": false
   },
   "outputs": [
    {
     "data": {
      "text/plain": [
       "array([[0.90950261, 0.53080414, 0.95125188, 0.31206683, 0.33021298,\n",
       "        0.40397089, 0.04823254, 0.40539738, 0.74872342, 0.12589331],\n",
       "       [0.5757024 , 0.07726187, 0.75551639, 0.25307654, 0.27202009,\n",
       "        0.58341339, 0.39615672, 0.23868599, 0.28401191, 0.36928288],\n",
       "       [0.02294442, 0.58640967, 0.83224101, 0.64888749, 0.05107085,\n",
       "        0.68690732, 0.84397307, 0.60996917, 0.01003234, 0.5479508 ],\n",
       "       [0.59134916, 0.69050083, 0.28516288, 0.2872147 , 0.99713242,\n",
       "        0.29253001, 0.94691286, 0.17562085, 0.9899295 , 0.57845326],\n",
       "       [0.00559615, 0.17242546, 0.47751663, 0.11578089, 0.77706111,\n",
       "        0.02099639, 0.19644311, 0.84133896, 0.39957858, 0.56479384]])"
      ]
     },
     "execution_count": 183,
     "metadata": {},
     "output_type": "execute_result"
    }
   ],
   "source": [
    "X = np.random.rand(5, 10)\n",
    "X"
   ]
  },
  {
   "cell_type": "code",
   "execution_count": 2,
   "metadata": {},
   "outputs": [
    {
     "name": "stdout",
     "output_type": "stream",
     "text": [
      "[[1 2 3]\n",
      " [4 5 6]]\n",
      "[2. 5.]\n",
      "[array([1, 2, 3]), array([3, 4, 5])]\n"
     ]
    }
   ],
   "source": [
    "a = np.array([[1,2,3],[4,5,6]])\n",
    "print(a)\n",
    "b =np.mean(a,axis=1) #así calculamos media en cada FILA, con axis=1\n",
    "print(b)\n",
    "c=[]\n",
    "\n",
    "for i in range(0,(a.shape[0])):\n",
    "    c.append(a[i,:]-i)\n",
    "print(c)"
   ]
  },
  {
   "cell_type": "code",
   "execution_count": 184,
   "metadata": {},
   "outputs": [
    {
     "name": "stdout",
     "output_type": "stream",
     "text": [
      "[0.4766056  0.38051282 0.48403861 0.58348065 0.35715311]\n",
      "[array([ 0.43289701,  0.05419854,  0.47464628, -0.16453877, -0.14639262,\n",
      "       -0.0726347 , -0.42837306, -0.07120822,  0.27211782, -0.35071229]), array([ 0.19518958, -0.30325095,  0.37500357, -0.12743628, -0.10849273,\n",
      "        0.20290058,  0.0156439 , -0.14182682, -0.09650091, -0.01122994]), array([-0.46109419,  0.10237106,  0.3482024 ,  0.16484887, -0.43296776,\n",
      "        0.20286871,  0.35993446,  0.12593055, -0.47400627,  0.06391218]), array([ 0.00786851,  0.10702018, -0.29831777, -0.29626594,  0.41365177,\n",
      "       -0.29095063,  0.36343222, -0.40785979,  0.40644885, -0.00502739]), array([-0.35155696, -0.18472765,  0.12036352, -0.24137222,  0.419908  ,\n",
      "       -0.33615673, -0.16071001,  0.48418585,  0.04242547,  0.20764073])]\n"
     ]
    }
   ],
   "source": [
    "b =np.mean(X,axis=1) #así calculamos media en cada FILA, con axis=1\n",
    "print(b)\n",
    "c=[] #This is the new matrix in which I save the matrix of random numbers - the mean of each row\n",
    "\n",
    "for i in range(0,(X.shape[0])):\n",
    "    c.append (X[i,:]-b[i])\n",
    "print(c)"
   ]
  },
  {
   "cell_type": "markdown",
   "metadata": {},
   "source": [
    "---"
   ]
  },
  {
   "cell_type": "markdown",
   "metadata": {},
   "source": [
    "### Feedback"
   ]
  },
  {
   "cell_type": "markdown",
   "metadata": {},
   "source": [
    "I am gonna use the first loop so it is easire to check:"
   ]
  },
  {
   "cell_type": "code",
   "execution_count": 6,
   "metadata": {},
   "outputs": [
    {
     "name": "stdout",
     "output_type": "stream",
     "text": [
      "[[1 2 3]\n",
      " [4 5 6]]\n",
      "[[2.]\n",
      " [5.]]\n"
     ]
    },
    {
     "data": {
      "text/plain": [
       "array([[-1.,  0.,  1.],\n",
       "       [-1.,  0.,  1.]])"
      ]
     },
     "execution_count": 6,
     "metadata": {},
     "output_type": "execute_result"
    }
   ],
   "source": [
    "a = np.array([[1,2,3],[4,5,6]])\n",
    "print(a)\n",
    "b =np.mean(a,axis=1, keepdims=True) #así calculamos media en cada FILA, con axis=1\n",
    "print(b)\n",
    "\n",
    "a - b"
   ]
  },
  {
   "cell_type": "markdown",
   "metadata": {},
   "source": [
    "Note that I have used the ardument `keepdims` for geting the mean. This will keep the dimensions of the resulting mean vector similar to the actual array. And then we can simply subtract them (Python takes care of the rest)"
   ]
  },
  {
   "cell_type": "markdown",
   "metadata": {},
   "source": [
    "---"
   ]
  },
  {
   "cell_type": "markdown",
   "metadata": {},
   "source": [
    "#### 17. How to sort an array by the nth column? (★★☆)\n",
    "\n",
    "Hint: look into `.argsort()`"
   ]
  },
  {
   "cell_type": "code",
   "execution_count": 7,
   "metadata": {
    "collapsed": false
   },
   "outputs": [
    {
     "data": {
      "text/plain": [
       "array([[2, 4, 0],\n",
       "       [7, 6, 8],\n",
       "       [8, 2, 1]])"
      ]
     },
     "execution_count": 7,
     "metadata": {},
     "output_type": "execute_result"
    }
   ],
   "source": [
    "Z = np.random.randint(0,10,(3,3))\n",
    "Z"
   ]
  },
  {
   "cell_type": "code",
   "execution_count": 9,
   "metadata": {},
   "outputs": [
    {
     "data": {
      "text/plain": [
       "array([[0, 2, 0],\n",
       "       [1, 0, 2],\n",
       "       [2, 1, 1]])"
      ]
     },
     "execution_count": 9,
     "metadata": {},
     "output_type": "execute_result"
    }
   ],
   "source": [
    "Z.argsort(0)\n",
    "#this function gives the postions for sorting the array. 0 if columns, 1 if rows\n",
    "#i.e. in each col/row includes positions 0-n in the place of the number"
   ]
  },
  {
   "cell_type": "code",
   "execution_count": 10,
   "metadata": {},
   "outputs": [
    {
     "name": "stdout",
     "output_type": "stream",
     "text": [
      "[[0 2 0]\n",
      " [1 0 2]\n",
      " [2 1 1]]\n",
      "[[2 2 0]\n",
      " [7 4 1]\n",
      " [8 6 8]]\n"
     ]
    }
   ],
   "source": [
    "Ord = np.argsort(Z,axis=0) #Coordenadas de orden\n",
    "print(Ord)\n",
    "print(np.sort(Z,axis=0)) #Ordenados por columnas"
   ]
  },
  {
   "cell_type": "markdown",
   "metadata": {},
   "source": [
    "---\n",
    "\n",
    "### Feedback"
   ]
  },
  {
   "cell_type": "markdown",
   "metadata": {},
   "source": [
    "So here the idea is we take a specific column, and then based on that column we sort all the rows:"
   ]
  },
  {
   "cell_type": "code",
   "execution_count": 11,
   "metadata": {},
   "outputs": [
    {
     "data": {
      "text/plain": [
       "array([[0, 3, 0],\n",
       "       [4, 8, 5],\n",
       "       [5, 1, 0]])"
      ]
     },
     "execution_count": 11,
     "metadata": {},
     "output_type": "execute_result"
    }
   ],
   "source": [
    "Z = np.random.randint(0,10,(3,3))\n",
    "Z"
   ]
  },
  {
   "cell_type": "markdown",
   "metadata": {},
   "source": [
    "Let's pick a specific column, and get the indices of the sorted version"
   ]
  },
  {
   "cell_type": "code",
   "execution_count": 17,
   "metadata": {},
   "outputs": [
    {
     "data": {
      "text/plain": [
       "array([2, 0, 1])"
      ]
     },
     "execution_count": 17,
     "metadata": {},
     "output_type": "execute_result"
    }
   ],
   "source": [
    "np.argsort(Z[:, 1])"
   ]
  },
  {
   "cell_type": "markdown",
   "metadata": {},
   "source": [
    "Now we use these indecies as the row index for the whole array"
   ]
  },
  {
   "cell_type": "code",
   "execution_count": 19,
   "metadata": {},
   "outputs": [
    {
     "data": {
      "text/plain": [
       "array([[5, 1, 0],\n",
       "       [0, 3, 0],\n",
       "       [4, 8, 5]])"
      ]
     },
     "execution_count": 19,
     "metadata": {},
     "output_type": "execute_result"
    }
   ],
   "source": [
    "Z_sorted = Z[np.argsort(Z[:, 1]), :]\n",
    "Z_sorted"
   ]
  },
  {
   "cell_type": "markdown",
   "metadata": {},
   "source": [
    "---"
   ]
  },
  {
   "cell_type": "markdown",
   "metadata": {},
   "source": [
    "#### 18. How to find the most frequent value in an array? (★★☆)"
   ]
  },
  {
   "cell_type": "code",
   "execution_count": 396,
   "metadata": {
    "collapsed": false
   },
   "outputs": [
    {
     "data": {
      "text/plain": [
       "array([3, 9, 2, 9, 7, 1, 2, 5, 8, 9, 0, 4, 9, 8, 1, 5, 1, 0, 0, 0, 1, 0,\n",
       "       4, 6, 1, 4, 1, 9, 3, 5, 1, 3, 2, 4, 8, 2, 8, 3, 8, 9, 8, 5, 0, 3,\n",
       "       0, 7, 9, 8, 6, 0])"
      ]
     },
     "execution_count": 396,
     "metadata": {},
     "output_type": "execute_result"
    }
   ],
   "source": [
    "Z = np.random.randint(0,10,50)\n",
    "Z"
   ]
  },
  {
   "cell_type": "code",
   "execution_count": 399,
   "metadata": {},
   "outputs": [
    {
     "name": "stdout",
     "output_type": "stream",
     "text": [
      "[3, 9, 2, 7, 1, 5, 8, 0, 4, 6]\n",
      "[5, 7, 4, 2, 7, 4, 7, 8, 4, 2]\n",
      "The most frequent value or values: [0]\n"
     ]
    }
   ],
   "source": [
    "nrnum = []\n",
    "for num in Z:\n",
    "    if (np.intersect1d(nrnum,num)).size == 0 :\n",
    "        nrnum.append(num)        \n",
    "print(nrnum)   \n",
    "#This part is to obtain ana array with all the numbers in a non repetitive way\n",
    "count =0;repeat=[];\n",
    "for i,n in enumerate(nrnum):\n",
    "    for j in Z:\n",
    "        if n==j :\n",
    "            count+=1\n",
    "    repeat.append(count)\n",
    "    count=0;\n",
    "print (repeat)\n",
    "#this list counts how many times the previous numbers appear in the sequence\n",
    "\n",
    "maximos  = [nrnum[ind] for ind,r in enumerate(repeat) if max(repeat)== r]\n",
    "\n",
    "print('The most frequent value or values: ' + str(maximos))"
   ]
  },
  {
   "cell_type": "code",
   "execution_count": 348,
   "metadata": {},
   "outputs": [],
   "source": [
    "np.argmax"
   ]
  },
  {
   "cell_type": "code",
   "execution_count": 398,
   "metadata": {},
   "outputs": [
    {
     "name": "stdout",
     "output_type": "stream",
     "text": [
      "1\n"
     ]
    }
   ],
   "source": [
    "A = [1, 2, 3, 4, 5]\n",
    "B = A[1]\n",
    "C =np.intersect1d(A,B)\n",
    "print(C.size)"
   ]
  },
  {
   "cell_type": "markdown",
   "metadata": {},
   "source": [
    "---\n",
    "### Feedback"
   ]
  },
  {
   "cell_type": "code",
   "execution_count": 31,
   "metadata": {},
   "outputs": [],
   "source": [
    "Z = np.random.randint(0,10,50)\n",
    "\n",
    "repeats = []\n",
    "for z in Z:\n",
    "#     print(np.where(Z==z)[0], len(np.where(Z==z)[0]))\n",
    "    repeats.append(len(np.where(Z==z)[0]))\n",
    "repeats = np.array(repeats)"
   ]
  },
  {
   "cell_type": "code",
   "execution_count": 35,
   "metadata": {},
   "outputs": [
    {
     "name": "stdout",
     "output_type": "stream",
     "text": [
      "4 is the most repeated element with the frequency of 9\n"
     ]
    }
   ],
   "source": [
    "print(Z[np.argmax(repeats)], \"is the most repeated element with the frequency of\", repeats[np.argmax(repeats)])"
   ]
  },
  {
   "cell_type": "markdown",
   "metadata": {},
   "source": [
    "---"
   ]
  },
  {
   "cell_type": "markdown",
   "metadata": {},
   "source": [
    "#### 19. How to swap two rows of an array? (★★★)"
   ]
  },
  {
   "cell_type": "code",
   "execution_count": 36,
   "metadata": {
    "collapsed": false
   },
   "outputs": [
    {
     "data": {
      "text/plain": [
       "array([[ 0,  1,  2,  3,  4],\n",
       "       [ 5,  6,  7,  8,  9],\n",
       "       [10, 11, 12, 13, 14],\n",
       "       [15, 16, 17, 18, 19],\n",
       "       [20, 21, 22, 23, 24]])"
      ]
     },
     "execution_count": 36,
     "metadata": {},
     "output_type": "execute_result"
    }
   ],
   "source": [
    "A = np.arange(25).reshape(5,5)\n",
    "A"
   ]
  },
  {
   "cell_type": "code",
   "execution_count": 406,
   "metadata": {},
   "outputs": [
    {
     "data": {
      "text/plain": [
       "array([[ 0,  1,  2,  3,  4],\n",
       "       [10, 11, 12, 13, 14],\n",
       "       [ 5,  6,  7,  8,  9],\n",
       "       [15, 16, 17, 18, 19],\n",
       "       [20, 21, 22, 23, 24]])"
      ]
     },
     "execution_count": 406,
     "metadata": {},
     "output_type": "execute_result"
    }
   ],
   "source": [
    "B = np.copy(A[1,:])\n",
    "A [1,:] = A[2,:]\n",
    "A[2,:] = B\n",
    "A\n",
    "#If we dont use np.copy, then the variable has not the fixed value, and if we change after A[1,:], \n",
    "#the variable B would also change"
   ]
  },
  {
   "cell_type": "markdown",
   "metadata": {},
   "source": [
    "#### 20. How to get the nth largest values of an array (★★★)"
   ]
  },
  {
   "cell_type": "code",
   "execution_count": 37,
   "metadata": {
    "collapsed": false
   },
   "outputs": [
    {
     "data": {
      "text/plain": [
       "array([ 7,  5, 19, 16, 18, 15, 17,  1, 10, 12, 14,  4,  8, 13,  3,  6, 11,\n",
       "        9,  2,  0])"
      ]
     },
     "execution_count": 37,
     "metadata": {},
     "output_type": "execute_result"
    }
   ],
   "source": [
    "Z = []\n",
    "Z = np.arange(20)\n",
    "np.random.shuffle(Z)\n",
    "\n",
    "Z"
   ]
  },
  {
   "cell_type": "code",
   "execution_count": 39,
   "metadata": {},
   "outputs": [
    {
     "name": "stdout",
     "output_type": "stream",
     "text": [
      "[ 0  1  2  3  4  5  6  7  8  9 10 11 12 13 14 15 16 17 18 19]\n",
      "19\n"
     ]
    }
   ],
   "source": [
    "n = 1\n",
    "X = np.sort(Z) #this returns the oredered vector.\n",
    "print(X)\n",
    "numero = X[len(X)-n] #the position of the nth maximum will be the final - the nth entry. As they are ordered,\n",
    "#we can use indexes\n",
    "print(numero)"
   ]
  },
  {
   "cell_type": "markdown",
   "metadata": {},
   "source": [
    "---\n",
    "\n",
    "### Feedback"
   ]
  },
  {
   "cell_type": "code",
   "execution_count": 48,
   "metadata": {},
   "outputs": [
    {
     "data": {
      "text/plain": [
       "18"
      ]
     },
     "execution_count": 48,
     "metadata": {},
     "output_type": "execute_result"
    }
   ],
   "source": [
    "n = 2 # the second biggest number\n",
    "Z[np.argsort(Z)[-n]]"
   ]
  },
  {
   "cell_type": "markdown",
   "metadata": {},
   "source": [
    "---\n",
    "\n",
    "# Matplotlib Exercises"
   ]
  },
  {
   "cell_type": "markdown",
   "metadata": {},
   "source": [
    "#### 21. Create a function that compute averages using a sliding window over an array? (★★★)\n",
    "\n",
    "Note that the function accepts two inputs:\n",
    "- the array, and\n",
    "- the size of the window"
   ]
  },
  {
   "cell_type": "code",
   "execution_count": 89,
   "metadata": {},
   "outputs": [],
   "source": [
    "def moving_average(Z, n):\n",
    "    times = int(len(Z)/n)\n",
    "    i1 = 0;\n",
    "    i2 = n; \n",
    "    move = [];\n",
    "    \n",
    "    for i in range(0,times):\n",
    "        move.append (np.mean(Z [i1 :i2]))\n",
    "        i1= i2 ;\n",
    "        i2 = i2 + n;\n",
    "    \n",
    "    if (i1) != (len(Z)) :\n",
    "        move.append (np.mean(Z [i1:] ))\n",
    "\n",
    "    return move\n",
    "#this function will return the mean bet each n values but means do not overlap"
   ]
  },
  {
   "cell_type": "code",
   "execution_count": 101,
   "metadata": {},
   "outputs": [],
   "source": [
    "def moving_average2(Z, n):\n",
    "    times = int(len(Z)-2)\n",
    "    i1 = 0;\n",
    "    i2 = n; \n",
    "    move = [];\n",
    "    \n",
    "    for i in range(0,times):\n",
    "        move.append (np.mean(Z [i1 :i2]))\n",
    "        i1 += 1 ;\n",
    "        i2 += 1;\n",
    "    \n",
    "    return move\n",
    "#this returns all the averages in bet, overlaping"
   ]
  },
  {
   "cell_type": "code",
   "execution_count": 91,
   "metadata": {},
   "outputs": [
    {
     "name": "stdout",
     "output_type": "stream",
     "text": [
      "1.0\n",
      "3.5\n",
      "5.5\n"
     ]
    },
    {
     "data": {
      "text/plain": [
       "array([1, 2])"
      ]
     },
     "execution_count": 91,
     "metadata": {},
     "output_type": "execute_result"
    }
   ],
   "source": [
    "a = np.array([1,2,3,4,5,6])\n",
    "print(np.mean(a[0:1]))\n",
    "print(np.mean(a[2:4]))\n",
    "print(np.mean(a[4:6]))\n",
    "int\n",
    "\n",
    "a [range(2)]"
   ]
  },
  {
   "cell_type": "code",
   "execution_count": 100,
   "metadata": {
    "collapsed": false
   },
   "outputs": [
    {
     "name": "stdout",
     "output_type": "stream",
     "text": [
      "[1.0, 2.0, 3.0, 4.0, 5.0, 6.0, 7.0, 8.0]\n"
     ]
    }
   ],
   "source": [
    "Z = np.arange(10)\n",
    "print(moving_average2(Z, n=3))"
   ]
  },
  {
   "cell_type": "markdown",
   "metadata": {},
   "source": [
    "#### 22. Create a square wave, and find out the time at which it state makes a transition (from 0 to 1 and vice versa)\n",
    "\n",
    "Steps:\n",
    "- create an array which has multiple 0s, 1s, 0s, 1s, etc.\n",
    "- create another array which contains timing information (this is up to you)\n",
    "- then find out at which exact times its state changes"
   ]
  },
  {
   "cell_type": "code",
   "execution_count": 120,
   "metadata": {},
   "outputs": [
    {
     "name": "stdout",
     "output_type": "stream",
     "text": [
      "[ 0.  1.  2.  3.  4.  5.  6.  7.  8.  9. 10.]\n",
      "The signal changes state in times: [3.0, 4.0, 5.0, 8.0, 10.0]\n"
     ]
    }
   ],
   "source": [
    "sqwave = [0,0,0,1,0,1,1,1,0,0,1];\n",
    "time = np.linspace(0,10,num = len(sqwave))\n",
    "print(time)\n",
    "tchange = []\n",
    "state = sqwave[0];\n",
    "for n,s in enumerate(sqwave) : \n",
    "    if s != state :\n",
    "        tchange.append(time[n])\n",
    "    state = sqwave[n];\n",
    "print('The signal changes state in times: '+ str(tchange))\n",
    "\n",
    "#How can we plot this?\n"
   ]
  },
  {
   "cell_type": "code",
   "execution_count": null,
   "metadata": {},
   "outputs": [],
   "source": []
  }
 ],
 "metadata": {
  "kernelspec": {
   "display_name": "Python 3",
   "language": "python",
   "name": "python3"
  },
  "language_info": {
   "codemirror_mode": {
    "name": "ipython",
    "version": 3
   },
   "file_extension": ".py",
   "mimetype": "text/x-python",
   "name": "python",
   "nbconvert_exporter": "python",
   "pygments_lexer": "ipython3",
   "version": "3.7.0"
  }
 },
 "nbformat": 4,
 "nbformat_minor": 2
}
